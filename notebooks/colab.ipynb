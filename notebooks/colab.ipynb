{
 "cells": [
  {
   "cell_type": "code",
   "execution_count": null,
   "source": [
    "# Install necessary libraries\n",
    "!pip install --quiet \\\n",
    "  wandb \\\n",
    "\n",
    "# Setup connection with your own google drive\n",
    "from google.colab import drive\n",
    "drive.mount('/content/drive')\n",
    "\n",
    "# Restarting the runtime is required for the libraries to be active in the notebook\n",
    "import os\n",
    "os.kill(os.getpid(), 9)"
   ],
   "outputs": [],
   "metadata": {}
  },
  {
   "cell_type": "code",
   "execution_count": null,
   "source": [
    "# Clone branch from github\n",
    "!rm -rf capsulenetworks/\n",
    "\n",
    "!branch_name='main' && \\\n",
    "  git clone --branch $branch_name https://github.com/ramanshsharma2806/capsulenetworks.git\n"
   ],
   "outputs": [],
   "metadata": {}
  },
  {
   "cell_type": "code",
   "execution_count": null,
   "source": [
    "#If you run this cell more than once, comment out this line because you are already in this folder and you will get an error\n",
    "import os\n",
    "os.chdir(\"capsulenetworks\")\n",
    "\n"
   ],
   "outputs": [],
   "metadata": {}
  }
 ],
 "metadata": {
  "orig_nbformat": 4,
  "language_info": {
   "name": "python"
  }
 },
 "nbformat": 4,
 "nbformat_minor": 2
}